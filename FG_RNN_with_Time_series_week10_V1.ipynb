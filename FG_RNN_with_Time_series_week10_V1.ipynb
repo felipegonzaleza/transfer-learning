{
  "nbformat": 4,
  "nbformat_minor": 0,
  "metadata": {
    "kernelspec": {
      "display_name": "Python 3",
      "language": "python",
      "name": "python3"
    },
    "language_info": {
      "codemirror_mode": {
        "name": "ipython",
        "version": 3
      },
      "file_extension": ".py",
      "mimetype": "text/x-python",
      "name": "python",
      "nbconvert_exporter": "python",
      "pygments_lexer": "ipython3",
      "version": "3.7.7"
    },
    "colab": {
      "name": "FG_RNN_with_Time_series_week10_V1.ipynb",
      "provenance": [],
      "collapsed_sections": []
    },
    "accelerator": "GPU"
  },
  "cells": [
    {
      "cell_type": "markdown",
      "metadata": {
        "id": "tyN5gj274OgN"
      },
      "source": [
        "# Today you are an MLE in the Personalization Department in Macy's cosmetics!\n",
        "Your goal is to predict outcomes of online browsing sessions, namely predicting if the next sequence of events/session will result in a purchase or not. \n",
        "\n",
        "Models used in this assignment are similar to https://github.com/guillaume-chevalier/seq2seq-signal-prediction/blob/master/seq2seq.ipynb\n",
        "\n"
      ]
    },
    {
      "cell_type": "markdown",
      "metadata": {
        "id": "G72VpQoe9qyi"
      },
      "source": [
        "# Task 0: Getting familiar with the Data"
      ]
    },
    {
      "cell_type": "markdown",
      "metadata": {
        "id": "jPFS7fBeoeP-"
      },
      "source": [
        "...if you're in Colab..."
      ]
    },
    {
      "cell_type": "code",
      "metadata": {
        "id": "qLLIlcrdvmw1",
        "colab": {
          "base_uri": "https://localhost:8080/"
        },
        "outputId": "c25cd95e-e5f3-4e10-c5d8-08c25edc0f7c"
      },
      "source": [
        "#Mount the RAW session level data: shopping.pkl\n",
        "from google.colab import drive\n",
        "drive.mount('/content/drive')"
      ],
      "execution_count": 5,
      "outputs": [
        {
          "output_type": "stream",
          "name": "stdout",
          "text": [
            "Mounted at /content/drive\n"
          ]
        }
      ]
    },
    {
      "cell_type": "code",
      "metadata": {
        "id": "Qbh2P_qs9i1_"
      },
      "source": [
        "# Import all libraries\n",
        "import numpy as np\n",
        "import pandas as pd\n",
        "from keras.models import Sequential\n",
        "from keras.layers import Dense\n",
        "from keras.layers import LSTM\n",
        "from keras.layers import Bidirectional"
      ],
      "execution_count": 6,
      "outputs": []
    },
    {
      "cell_type": "code",
      "metadata": {
        "id": "S5UdJL8sP6fz",
        "colab": {
          "base_uri": "https://localhost:8080/",
          "height": 310
        },
        "outputId": "fb09b389-c81d-4683-fa5a-9a5a038e6832"
      },
      "source": [
        "#Read and look at the RAW data\n",
        "data = pd.read_pickle('/content/drive/MyDrive/Notebooks/Sequence_Models/shopping.pkl') # This is where I stored my data. Where'd you put yours?\n",
        "print('Shape of data=', data.shape)\n",
        "data.head()"
      ],
      "execution_count": 7,
      "outputs": [
        {
          "output_type": "stream",
          "name": "stdout",
          "text": [
            "Shape of data= (1500000, 12)\n"
          ]
        },
        {
          "output_type": "execute_result",
          "data": {
            "text/html": [
              "<div>\n",
              "<style scoped>\n",
              "    .dataframe tbody tr th:only-of-type {\n",
              "        vertical-align: middle;\n",
              "    }\n",
              "\n",
              "    .dataframe tbody tr th {\n",
              "        vertical-align: top;\n",
              "    }\n",
              "\n",
              "    .dataframe thead th {\n",
              "        text-align: right;\n",
              "    }\n",
              "</style>\n",
              "<table border=\"1\" class=\"dataframe\">\n",
              "  <thead>\n",
              "    <tr style=\"text-align: right;\">\n",
              "      <th></th>\n",
              "      <th>event_time</th>\n",
              "      <th>event_type</th>\n",
              "      <th>product_id</th>\n",
              "      <th>category_id</th>\n",
              "      <th>brand</th>\n",
              "      <th>price</th>\n",
              "      <th>user_id</th>\n",
              "      <th>user_session</th>\n",
              "      <th>year</th>\n",
              "      <th>month</th>\n",
              "      <th>weekday</th>\n",
              "      <th>hour</th>\n",
              "    </tr>\n",
              "  </thead>\n",
              "  <tbody>\n",
              "    <tr>\n",
              "      <th>0</th>\n",
              "      <td>2019-12-01 00:00:00</td>\n",
              "      <td>remove_from_cart</td>\n",
              "      <td>5712790</td>\n",
              "      <td>1487580005268456287</td>\n",
              "      <td>f.o.x</td>\n",
              "      <td>6.27</td>\n",
              "      <td>576802932</td>\n",
              "      <td>51d85cb0-897f-48d2-918b-ad63965c12dc</td>\n",
              "      <td>2019</td>\n",
              "      <td>12</td>\n",
              "      <td>Sunday</td>\n",
              "      <td>0</td>\n",
              "    </tr>\n",
              "    <tr>\n",
              "      <th>1</th>\n",
              "      <td>2019-12-01 00:00:00</td>\n",
              "      <td>view</td>\n",
              "      <td>5764655</td>\n",
              "      <td>1487580005411062629</td>\n",
              "      <td>cnd</td>\n",
              "      <td>29.05</td>\n",
              "      <td>412120092</td>\n",
              "      <td>8adff31e-2051-4894-9758-224bfa8aec18</td>\n",
              "      <td>2019</td>\n",
              "      <td>12</td>\n",
              "      <td>Sunday</td>\n",
              "      <td>0</td>\n",
              "    </tr>\n",
              "    <tr>\n",
              "      <th>2</th>\n",
              "      <td>2019-12-01 00:00:02</td>\n",
              "      <td>cart</td>\n",
              "      <td>4958</td>\n",
              "      <td>1487580009471148064</td>\n",
              "      <td>runail</td>\n",
              "      <td>1.19</td>\n",
              "      <td>494077766</td>\n",
              "      <td>c99a50e8-2fac-4c4d-89ec-41c05f114554</td>\n",
              "      <td>2019</td>\n",
              "      <td>12</td>\n",
              "      <td>Sunday</td>\n",
              "      <td>0</td>\n",
              "    </tr>\n",
              "    <tr>\n",
              "      <th>3</th>\n",
              "      <td>2019-12-01 00:00:05</td>\n",
              "      <td>view</td>\n",
              "      <td>5848413</td>\n",
              "      <td>1487580007675986893</td>\n",
              "      <td>freedecor</td>\n",
              "      <td>0.79</td>\n",
              "      <td>348405118</td>\n",
              "      <td>722ffea5-73c0-4924-8e8f-371ff8031af4</td>\n",
              "      <td>2019</td>\n",
              "      <td>12</td>\n",
              "      <td>Sunday</td>\n",
              "      <td>0</td>\n",
              "    </tr>\n",
              "    <tr>\n",
              "      <th>4</th>\n",
              "      <td>2019-12-01 00:00:07</td>\n",
              "      <td>view</td>\n",
              "      <td>5824148</td>\n",
              "      <td>1487580005511725929</td>\n",
              "      <td>nan</td>\n",
              "      <td>5.56</td>\n",
              "      <td>576005683</td>\n",
              "      <td>28172809-7e4a-45ce-bab0-5efa90117cd5</td>\n",
              "      <td>2019</td>\n",
              "      <td>12</td>\n",
              "      <td>Sunday</td>\n",
              "      <td>0</td>\n",
              "    </tr>\n",
              "  </tbody>\n",
              "</table>\n",
              "</div>"
            ],
            "text/plain": [
              "           event_time        event_type  product_id  ...  month weekday  hour\n",
              "0 2019-12-01 00:00:00  remove_from_cart     5712790  ...     12  Sunday     0\n",
              "1 2019-12-01 00:00:00              view     5764655  ...     12  Sunday     0\n",
              "2 2019-12-01 00:00:02              cart        4958  ...     12  Sunday     0\n",
              "3 2019-12-01 00:00:05              view     5848413  ...     12  Sunday     0\n",
              "4 2019-12-01 00:00:07              view     5824148  ...     12  Sunday     0\n",
              "\n",
              "[5 rows x 12 columns]"
            ]
          },
          "metadata": {},
          "execution_count": 7
        }
      ]
    },
    {
      "cell_type": "markdown",
      "metadata": {
        "id": "xGvjhdUnu2SB"
      },
      "source": [
        "So, for each unique user_session ID, the data fields that are collected are the time the event occured, the type of event (view, cart, remove, purchase), the product ID, category ID, brand, price, user ID, year, month, weekday, and hour. Notice that we have 1.5M data samples."
      ]
    },
    {
      "cell_type": "markdown",
      "metadata": {
        "id": "qW9BT7eS-oH7"
      },
      "source": [
        "# Task 1: Set up and train a simple RNN on this time series data\n",
        "\n",
        "There's a lot of data we could use here, but we're going to start with something pretty simple. Think of a user session as being made up of a series of events (e.g. ['view', (add to)'cart', 'view', (add to)'cart', 'purchase']). We want a model that can take in a series of non-purchase events, and predict whether a purchase is going to occur. In the example above, ['view', (add to)'cart', 'view', (add to)'cart'] is a **sequence** which culminates in a purchase. We'll create a representation of sequences of events, and train a model to predict whether or not a purchase is going to occur. \n",
        "\n",
        "This work is the modification from the paper: https://arxiv.org/ftp/arxiv/papers/2010/2010.02503.pdf"
      ]
    },
    {
      "cell_type": "markdown",
      "metadata": {
        "id": "1nW-ZTezxAEw"
      },
      "source": [
        "## Step 1: Create sequence data for each session"
      ]
    },
    {
      "cell_type": "code",
      "metadata": {
        "id": "z7fl9XZMP6f0"
      },
      "source": [
        "# Convert the event types to numeric values\n",
        "events = {'purchase':1,'cart': 2,'view': 3, 'remove_from_cart':4}\n",
        "data['event'] = data.event_type.map(events)"
      ],
      "execution_count": 8,
      "outputs": []
    },
    {
      "cell_type": "code",
      "metadata": {
        "id": "_XPpZb68P6f0",
        "colab": {
          "base_uri": "https://localhost:8080/",
          "height": 293
        },
        "outputId": "fcb2e106-8447-4544-9f8d-f28bb6c3706c"
      },
      "source": [
        "# Sort the events by 'event_time'\n",
        "data = data.sort_values('event_time')\n",
        "data.head()"
      ],
      "execution_count": 9,
      "outputs": [
        {
          "output_type": "execute_result",
          "data": {
            "text/html": [
              "<div>\n",
              "<style scoped>\n",
              "    .dataframe tbody tr th:only-of-type {\n",
              "        vertical-align: middle;\n",
              "    }\n",
              "\n",
              "    .dataframe tbody tr th {\n",
              "        vertical-align: top;\n",
              "    }\n",
              "\n",
              "    .dataframe thead th {\n",
              "        text-align: right;\n",
              "    }\n",
              "</style>\n",
              "<table border=\"1\" class=\"dataframe\">\n",
              "  <thead>\n",
              "    <tr style=\"text-align: right;\">\n",
              "      <th></th>\n",
              "      <th>event_time</th>\n",
              "      <th>event_type</th>\n",
              "      <th>product_id</th>\n",
              "      <th>category_id</th>\n",
              "      <th>brand</th>\n",
              "      <th>price</th>\n",
              "      <th>user_id</th>\n",
              "      <th>user_session</th>\n",
              "      <th>year</th>\n",
              "      <th>month</th>\n",
              "      <th>weekday</th>\n",
              "      <th>hour</th>\n",
              "      <th>event</th>\n",
              "    </tr>\n",
              "  </thead>\n",
              "  <tbody>\n",
              "    <tr>\n",
              "      <th>0</th>\n",
              "      <td>2019-12-01 00:00:00</td>\n",
              "      <td>remove_from_cart</td>\n",
              "      <td>5712790</td>\n",
              "      <td>1487580005268456287</td>\n",
              "      <td>f.o.x</td>\n",
              "      <td>6.27</td>\n",
              "      <td>576802932</td>\n",
              "      <td>51d85cb0-897f-48d2-918b-ad63965c12dc</td>\n",
              "      <td>2019</td>\n",
              "      <td>12</td>\n",
              "      <td>Sunday</td>\n",
              "      <td>0</td>\n",
              "      <td>4</td>\n",
              "    </tr>\n",
              "    <tr>\n",
              "      <th>1</th>\n",
              "      <td>2019-12-01 00:00:00</td>\n",
              "      <td>view</td>\n",
              "      <td>5764655</td>\n",
              "      <td>1487580005411062629</td>\n",
              "      <td>cnd</td>\n",
              "      <td>29.05</td>\n",
              "      <td>412120092</td>\n",
              "      <td>8adff31e-2051-4894-9758-224bfa8aec18</td>\n",
              "      <td>2019</td>\n",
              "      <td>12</td>\n",
              "      <td>Sunday</td>\n",
              "      <td>0</td>\n",
              "      <td>3</td>\n",
              "    </tr>\n",
              "    <tr>\n",
              "      <th>2</th>\n",
              "      <td>2019-12-01 00:00:02</td>\n",
              "      <td>cart</td>\n",
              "      <td>4958</td>\n",
              "      <td>1487580009471148064</td>\n",
              "      <td>runail</td>\n",
              "      <td>1.19</td>\n",
              "      <td>494077766</td>\n",
              "      <td>c99a50e8-2fac-4c4d-89ec-41c05f114554</td>\n",
              "      <td>2019</td>\n",
              "      <td>12</td>\n",
              "      <td>Sunday</td>\n",
              "      <td>0</td>\n",
              "      <td>2</td>\n",
              "    </tr>\n",
              "    <tr>\n",
              "      <th>3</th>\n",
              "      <td>2019-12-01 00:00:05</td>\n",
              "      <td>view</td>\n",
              "      <td>5848413</td>\n",
              "      <td>1487580007675986893</td>\n",
              "      <td>freedecor</td>\n",
              "      <td>0.79</td>\n",
              "      <td>348405118</td>\n",
              "      <td>722ffea5-73c0-4924-8e8f-371ff8031af4</td>\n",
              "      <td>2019</td>\n",
              "      <td>12</td>\n",
              "      <td>Sunday</td>\n",
              "      <td>0</td>\n",
              "      <td>3</td>\n",
              "    </tr>\n",
              "    <tr>\n",
              "      <th>4</th>\n",
              "      <td>2019-12-01 00:00:07</td>\n",
              "      <td>view</td>\n",
              "      <td>5824148</td>\n",
              "      <td>1487580005511725929</td>\n",
              "      <td>nan</td>\n",
              "      <td>5.56</td>\n",
              "      <td>576005683</td>\n",
              "      <td>28172809-7e4a-45ce-bab0-5efa90117cd5</td>\n",
              "      <td>2019</td>\n",
              "      <td>12</td>\n",
              "      <td>Sunday</td>\n",
              "      <td>0</td>\n",
              "      <td>3</td>\n",
              "    </tr>\n",
              "  </tbody>\n",
              "</table>\n",
              "</div>"
            ],
            "text/plain": [
              "           event_time        event_type  product_id  ...  weekday hour  event\n",
              "0 2019-12-01 00:00:00  remove_from_cart     5712790  ...   Sunday    0      4\n",
              "1 2019-12-01 00:00:00              view     5764655  ...   Sunday    0      3\n",
              "2 2019-12-01 00:00:02              cart        4958  ...   Sunday    0      2\n",
              "3 2019-12-01 00:00:05              view     5848413  ...   Sunday    0      3\n",
              "4 2019-12-01 00:00:07              view     5824148  ...   Sunday    0      3\n",
              "\n",
              "[5 rows x 13 columns]"
            ]
          },
          "metadata": {},
          "execution_count": 9
        }
      ]
    },
    {
      "cell_type": "markdown",
      "metadata": {
        "id": "DmU65kWatAWs"
      },
      "source": [
        "^ The `event` column we added is just a numerical representation of the of the event type (purchase, cart, view, remove_from_cart)"
      ]
    },
    {
      "cell_type": "markdown",
      "metadata": {
        "id": "kkFzILKzkRrt"
      },
      "source": [
        "Next, process the data into a new dataframe `sequence`, to have three columns:\n",
        "1. There will still be a `user_session` column, but now only one row for each user session\n",
        "2. The `event` column will now be a list of the events that occured in that session, in the order they occured. \n",
        "3. A `purchase` column indicates whether the events for that session included a purchase. The number 1 will indicate a purchase, 0 will indicate no purchase."
      ]
    },
    {
      "cell_type": "code",
      "metadata": {
        "id": "YEOeD6osP6f1"
      },
      "source": [
        "sequence = data.groupby('user_session')['event'].apply(list)\n",
        "sequence = sequence.reset_index()\n",
        "sequence['purchase'] = sequence['event'].apply(lambda x: 1 if 1 in x else 0)\n",
        "sequence = sequence[sequence['event'].map(len)> 1]"
      ],
      "execution_count": 10,
      "outputs": []
    },
    {
      "cell_type": "code",
      "metadata": {
        "id": "FFTXy5tnttIC",
        "colab": {
          "base_uri": "https://localhost:8080/",
          "height": 206
        },
        "outputId": "2a594f0b-9637-4ada-fa6d-ba8d3846fc4b"
      },
      "source": [
        "sequence.head()"
      ],
      "execution_count": 11,
      "outputs": [
        {
          "output_type": "execute_result",
          "data": {
            "text/html": [
              "<div>\n",
              "<style scoped>\n",
              "    .dataframe tbody tr th:only-of-type {\n",
              "        vertical-align: middle;\n",
              "    }\n",
              "\n",
              "    .dataframe tbody tr th {\n",
              "        vertical-align: top;\n",
              "    }\n",
              "\n",
              "    .dataframe thead th {\n",
              "        text-align: right;\n",
              "    }\n",
              "</style>\n",
              "<table border=\"1\" class=\"dataframe\">\n",
              "  <thead>\n",
              "    <tr style=\"text-align: right;\">\n",
              "      <th></th>\n",
              "      <th>user_session</th>\n",
              "      <th>event</th>\n",
              "      <th>purchase</th>\n",
              "    </tr>\n",
              "  </thead>\n",
              "  <tbody>\n",
              "    <tr>\n",
              "      <th>2</th>\n",
              "      <td>00018d32-afba-4db8-9d3d-562c83580579</td>\n",
              "      <td>[3, 2]</td>\n",
              "      <td>0</td>\n",
              "    </tr>\n",
              "    <tr>\n",
              "      <th>4</th>\n",
              "      <td>0001d956-e104-487b-a045-3864d7b9a022</td>\n",
              "      <td>[2, 2, 2, 2, 2, 2, 2]</td>\n",
              "      <td>0</td>\n",
              "    </tr>\n",
              "    <tr>\n",
              "      <th>5</th>\n",
              "      <td>0001ebd4-441d-4c2f-a888-929a63b2afe3</td>\n",
              "      <td>[3, 3, 3, 3, 3, 3, 3, 3]</td>\n",
              "      <td>0</td>\n",
              "    </tr>\n",
              "    <tr>\n",
              "      <th>7</th>\n",
              "      <td>00027027-c51e-4b8f-82bc-0122b3d44204</td>\n",
              "      <td>[3, 3, 3, 3, 3, 3, 3, 3, 3, 3, 2, 2, 2, 3, 3, ...</td>\n",
              "      <td>0</td>\n",
              "    </tr>\n",
              "    <tr>\n",
              "      <th>9</th>\n",
              "      <td>0002b72e-c9b0-4b2e-99c8-a6c8630c4cfe</td>\n",
              "      <td>[2, 3, 2, 2, 4, 4, 4, 4, 4, 4, 3, 3, 3, 4, 4, ...</td>\n",
              "      <td>0</td>\n",
              "    </tr>\n",
              "  </tbody>\n",
              "</table>\n",
              "</div>"
            ],
            "text/plain": [
              "                           user_session  ... purchase\n",
              "2  00018d32-afba-4db8-9d3d-562c83580579  ...        0\n",
              "4  0001d956-e104-487b-a045-3864d7b9a022  ...        0\n",
              "5  0001ebd4-441d-4c2f-a888-929a63b2afe3  ...        0\n",
              "7  00027027-c51e-4b8f-82bc-0122b3d44204  ...        0\n",
              "9  0002b72e-c9b0-4b2e-99c8-a6c8630c4cfe  ...        0\n",
              "\n",
              "[5 rows x 3 columns]"
            ]
          },
          "metadata": {},
          "execution_count": 11
        }
      ]
    },
    {
      "cell_type": "markdown",
      "metadata": {
        "id": "fOgMv-STw6m0"
      },
      "source": [
        "...one problem we have is that the event entries still have '1's for the purchase events, let's get rid of those because their presence is already indicated by the purchase column... "
      ]
    },
    {
      "cell_type": "code",
      "metadata": {
        "scrolled": true,
        "id": "fl26fdnvP6f4",
        "colab": {
          "base_uri": "https://localhost:8080/",
          "height": 224
        },
        "outputId": "adb49a7f-e005-453f-f06f-6bf2a5577c66"
      },
      "source": [
        "#The sequence data should not contain the \"purchase field\" so it is filtered out\n",
        "sequence['event']= sequence.event.apply(lambda row: list(filter(lambda a: a != 1, row)))\n",
        "print('Total number of records=', sequence.shape[0])\n",
        "sequence.head()"
      ],
      "execution_count": 12,
      "outputs": [
        {
          "output_type": "stream",
          "name": "stdout",
          "text": [
            "Total number of records= 119480\n"
          ]
        },
        {
          "output_type": "execute_result",
          "data": {
            "text/html": [
              "<div>\n",
              "<style scoped>\n",
              "    .dataframe tbody tr th:only-of-type {\n",
              "        vertical-align: middle;\n",
              "    }\n",
              "\n",
              "    .dataframe tbody tr th {\n",
              "        vertical-align: top;\n",
              "    }\n",
              "\n",
              "    .dataframe thead th {\n",
              "        text-align: right;\n",
              "    }\n",
              "</style>\n",
              "<table border=\"1\" class=\"dataframe\">\n",
              "  <thead>\n",
              "    <tr style=\"text-align: right;\">\n",
              "      <th></th>\n",
              "      <th>user_session</th>\n",
              "      <th>event</th>\n",
              "      <th>purchase</th>\n",
              "    </tr>\n",
              "  </thead>\n",
              "  <tbody>\n",
              "    <tr>\n",
              "      <th>2</th>\n",
              "      <td>00018d32-afba-4db8-9d3d-562c83580579</td>\n",
              "      <td>[3, 2]</td>\n",
              "      <td>0</td>\n",
              "    </tr>\n",
              "    <tr>\n",
              "      <th>4</th>\n",
              "      <td>0001d956-e104-487b-a045-3864d7b9a022</td>\n",
              "      <td>[2, 2, 2, 2, 2, 2, 2]</td>\n",
              "      <td>0</td>\n",
              "    </tr>\n",
              "    <tr>\n",
              "      <th>5</th>\n",
              "      <td>0001ebd4-441d-4c2f-a888-929a63b2afe3</td>\n",
              "      <td>[3, 3, 3, 3, 3, 3, 3, 3]</td>\n",
              "      <td>0</td>\n",
              "    </tr>\n",
              "    <tr>\n",
              "      <th>7</th>\n",
              "      <td>00027027-c51e-4b8f-82bc-0122b3d44204</td>\n",
              "      <td>[3, 3, 3, 3, 3, 3, 3, 3, 3, 3, 2, 2, 2, 3, 3, ...</td>\n",
              "      <td>0</td>\n",
              "    </tr>\n",
              "    <tr>\n",
              "      <th>9</th>\n",
              "      <td>0002b72e-c9b0-4b2e-99c8-a6c8630c4cfe</td>\n",
              "      <td>[2, 3, 2, 2, 4, 4, 4, 4, 4, 4, 3, 3, 3, 4, 4, ...</td>\n",
              "      <td>0</td>\n",
              "    </tr>\n",
              "  </tbody>\n",
              "</table>\n",
              "</div>"
            ],
            "text/plain": [
              "                           user_session  ... purchase\n",
              "2  00018d32-afba-4db8-9d3d-562c83580579  ...        0\n",
              "4  0001d956-e104-487b-a045-3864d7b9a022  ...        0\n",
              "5  0001ebd4-441d-4c2f-a888-929a63b2afe3  ...        0\n",
              "7  00027027-c51e-4b8f-82bc-0122b3d44204  ...        0\n",
              "9  0002b72e-c9b0-4b2e-99c8-a6c8630c4cfe  ...        0\n",
              "\n",
              "[5 rows x 3 columns]"
            ]
          },
          "metadata": {},
          "execution_count": 12
        }
      ]
    },
    {
      "cell_type": "code",
      "metadata": {
        "id": "-8xsenMYyKHI",
        "colab": {
          "base_uri": "https://localhost:8080/"
        },
        "outputId": "7b7863a5-51a0-4154-ead6-d348081900bd"
      },
      "source": [
        "temp_one_hot = np.array(pd.get_dummies(sequence['purchase'],prefix='Purchase'))\n",
        "fraction_with_purchase=np.sum(temp_one_hot[:,1])/len(temp_one_hot)\n",
        "print('Fraction of sessions ending in a purchase:', fraction_with_purchase)"
      ],
      "execution_count": 13,
      "outputs": [
        {
          "output_type": "stream",
          "name": "stdout",
          "text": [
            "Fraction of sessions ending in a purchase: 0.09381486441245397\n"
          ]
        }
      ]
    },
    {
      "cell_type": "markdown",
      "metadata": {
        "id": "pU6mRjRiEGHZ"
      },
      "source": [
        "What does an average sequence look like? Can some sequences be especially long and others be very short?"
      ]
    },
    {
      "cell_type": "code",
      "metadata": {
        "id": "K2Mf3A5yP6f4"
      },
      "source": [
        "#Find the length of events per user-session\n",
        "length = sequence['event'].map(len).to_list()"
      ],
      "execution_count": 14,
      "outputs": []
    },
    {
      "cell_type": "code",
      "metadata": {
        "id": "MJrKuMCDP6f5"
      },
      "source": [
        "import seaborn as sns"
      ],
      "execution_count": 15,
      "outputs": []
    },
    {
      "cell_type": "code",
      "metadata": {
        "id": "agn_AM6dP6f5",
        "colab": {
          "base_uri": "https://localhost:8080/",
          "height": 337
        },
        "outputId": "bfa6e285-82e4-4116-f6b3-f336a380e2db"
      },
      "source": [
        "sns.distplot(length)"
      ],
      "execution_count": 16,
      "outputs": [
        {
          "output_type": "stream",
          "name": "stderr",
          "text": [
            "/usr/local/lib/python3.7/dist-packages/seaborn/distributions.py:2619: FutureWarning: `distplot` is a deprecated function and will be removed in a future version. Please adapt your code to use either `displot` (a figure-level function with similar flexibility) or `histplot` (an axes-level function for histograms).\n",
            "  warnings.warn(msg, FutureWarning)\n"
          ]
        },
        {
          "output_type": "execute_result",
          "data": {
            "text/plain": [
              "<matplotlib.axes._subplots.AxesSubplot at 0x7f1a80005a90>"
            ]
          },
          "metadata": {},
          "execution_count": 16
        },
        {
          "output_type": "display_data",
          "data": {
            "image/png": "[encoded data removed]",
            "text/plain": [
              "<Figure size 432x288 with 1 Axes>"
            ]
          },
          "metadata": {
            "needs_background": "light"
          }
        }
      ]
    },
    {
      "cell_type": "markdown",
      "metadata": {
        "id": "alxwobvPP6f6"
      },
      "source": [
        "### So we see that most sequences are about 100 or shorter. \n",
        "One difficult task in time series modeling is to find the optimal sequence size for highest prediction accuracy. We won't attemp that today, but let's at least split the data up into short and long sequences, to see if there's a difference in models trained on these different sequence lengths. \n",
        "### We'll focus on sequences that have lengths less than or equal to 10."
      ]
    },
    {
      "cell_type": "code",
      "metadata": {
        "id": "dLZ-S5lxP6f6"
      },
      "source": [
        "# select all sequences that are upto 10 events long. Discard remaining sequences.\n",
        "short_sequence_10 = sequence[sequence['event'].map(len) <= 10]"
      ],
      "execution_count": 17,
      "outputs": []
    },
    {
      "cell_type": "code",
      "metadata": {
        "id": "Fzy_4xh3P6f7",
        "colab": {
          "base_uri": "https://localhost:8080/",
          "height": 424
        },
        "outputId": "419d7e71-1391-4d66-b0c1-a2496f98bb00"
      },
      "source": [
        "#Lets see how many records come up\n",
        "short_sequence_10"
      ],
      "execution_count": 18,
      "outputs": [
        {
          "output_type": "execute_result",
          "data": {
            "text/html": [
              "<div>\n",
              "<style scoped>\n",
              "    .dataframe tbody tr th:only-of-type {\n",
              "        vertical-align: middle;\n",
              "    }\n",
              "\n",
              "    .dataframe tbody tr th {\n",
              "        vertical-align: top;\n",
              "    }\n",
              "\n",
              "    .dataframe thead th {\n",
              "        text-align: right;\n",
              "    }\n",
              "</style>\n",
              "<table border=\"1\" class=\"dataframe\">\n",
              "  <thead>\n",
              "    <tr style=\"text-align: right;\">\n",
              "      <th></th>\n",
              "      <th>user_session</th>\n",
              "      <th>event</th>\n",
              "      <th>purchase</th>\n",
              "    </tr>\n",
              "  </thead>\n",
              "  <tbody>\n",
              "    <tr>\n",
              "      <th>2</th>\n",
              "      <td>00018d32-afba-4db8-9d3d-562c83580579</td>\n",
              "      <td>[3, 2]</td>\n",
              "      <td>0</td>\n",
              "    </tr>\n",
              "    <tr>\n",
              "      <th>4</th>\n",
              "      <td>0001d956-e104-487b-a045-3864d7b9a022</td>\n",
              "      <td>[2, 2, 2, 2, 2, 2, 2]</td>\n",
              "      <td>0</td>\n",
              "    </tr>\n",
              "    <tr>\n",
              "      <th>5</th>\n",
              "      <td>0001ebd4-441d-4c2f-a888-929a63b2afe3</td>\n",
              "      <td>[3, 3, 3, 3, 3, 3, 3, 3]</td>\n",
              "      <td>0</td>\n",
              "    </tr>\n",
              "    <tr>\n",
              "      <th>10</th>\n",
              "      <td>0002ba44-8b73-4ace-b7c8-fe946aa63cc2</td>\n",
              "      <td>[3, 2, 2]</td>\n",
              "      <td>0</td>\n",
              "    </tr>\n",
              "    <tr>\n",
              "      <th>17</th>\n",
              "      <td>0003d895-8dd0-47c2-94e0-92f7a9031c74</td>\n",
              "      <td>[3, 3]</td>\n",
              "      <td>0</td>\n",
              "    </tr>\n",
              "    <tr>\n",
              "      <th>...</th>\n",
              "      <td>...</td>\n",
              "      <td>...</td>\n",
              "      <td>...</td>\n",
              "    </tr>\n",
              "    <tr>\n",
              "      <th>336954</th>\n",
              "      <td>fffb5277-899a-46d8-b51e-2c1f61880f4e</td>\n",
              "      <td>[3, 2]</td>\n",
              "      <td>0</td>\n",
              "    </tr>\n",
              "    <tr>\n",
              "      <th>336963</th>\n",
              "      <td>fffcec5a-c2e3-4e13-8f40-a63f7d14c81f</td>\n",
              "      <td>[4, 4]</td>\n",
              "      <td>0</td>\n",
              "    </tr>\n",
              "    <tr>\n",
              "      <th>336965</th>\n",
              "      <td>fffd3d91-5734-42ac-b149-7403417ec3e2</td>\n",
              "      <td>[3, 3, 3, 3, 3]</td>\n",
              "      <td>0</td>\n",
              "    </tr>\n",
              "    <tr>\n",
              "      <th>336966</th>\n",
              "      <td>fffd5100-6389-486d-8732-9066c47f7ba1</td>\n",
              "      <td>[3, 3, 2, 3, 3]</td>\n",
              "      <td>0</td>\n",
              "    </tr>\n",
              "    <tr>\n",
              "      <th>336974</th>\n",
              "      <td>ffff19e6-2095-4104-b1ac-00cd5f43f0e0</td>\n",
              "      <td>[3, 2, 3]</td>\n",
              "      <td>0</td>\n",
              "    </tr>\n",
              "  </tbody>\n",
              "</table>\n",
              "<p>91715 rows × 3 columns</p>\n",
              "</div>"
            ],
            "text/plain": [
              "                                user_session  ... purchase\n",
              "2       00018d32-afba-4db8-9d3d-562c83580579  ...        0\n",
              "4       0001d956-e104-487b-a045-3864d7b9a022  ...        0\n",
              "5       0001ebd4-441d-4c2f-a888-929a63b2afe3  ...        0\n",
              "10      0002ba44-8b73-4ace-b7c8-fe946aa63cc2  ...        0\n",
              "17      0003d895-8dd0-47c2-94e0-92f7a9031c74  ...        0\n",
              "...                                      ...  ...      ...\n",
              "336954  fffb5277-899a-46d8-b51e-2c1f61880f4e  ...        0\n",
              "336963  fffcec5a-c2e3-4e13-8f40-a63f7d14c81f  ...        0\n",
              "336965  fffd3d91-5734-42ac-b149-7403417ec3e2  ...        0\n",
              "336966  fffd5100-6389-486d-8732-9066c47f7ba1  ...        0\n",
              "336974  ffff19e6-2095-4104-b1ac-00cd5f43f0e0  ...        0\n",
              "\n",
              "[91715 rows x 3 columns]"
            ]
          },
          "metadata": {},
          "execution_count": 18
        }
      ]
    },
    {
      "cell_type": "markdown",
      "metadata": {
        "id": "uDScrStaFqnm"
      },
      "source": [
        "Let's do a little more preprocessing to arrange this data in a form amenable to training a TensorFlow neural network..."
      ]
    },
    {
      "cell_type": "code",
      "metadata": {
        "id": "K6qRStdGP6f7"
      },
      "source": [
        "event_sequence = short_sequence_10['event'].to_list()"
      ],
      "execution_count": 19,
      "outputs": []
    },
    {
      "cell_type": "code",
      "metadata": {
        "id": "8p65PEhX7Iwz",
        "colab": {
          "base_uri": "https://localhost:8080/"
        },
        "outputId": "9eb2c97d-a027-4f6d-9ff2-21bb554f333c"
      },
      "source": [
        "event_sequence[0:10]"
      ],
      "execution_count": 20,
      "outputs": [
        {
          "output_type": "execute_result",
          "data": {
            "text/plain": [
              "[[3, 2],\n",
              " [2, 2, 2, 2, 2, 2, 2],\n",
              " [3, 3, 3, 3, 3, 3, 3, 3],\n",
              " [3, 2, 2],\n",
              " [3, 3],\n",
              " [3, 2],\n",
              " [3, 3, 3, 3, 3],\n",
              " [2, 2, 2, 2, 2, 4, 4],\n",
              " [3, 3, 3],\n",
              " [3, 3]]"
            ]
          },
          "metadata": {},
          "execution_count": 20
        }
      ]
    },
    {
      "cell_type": "code",
      "metadata": {
        "id": "MKLHK-SdP6f8"
      },
      "source": [
        "# Pad all sequences with zeros so all inputs have same consistent size of 10\n",
        "from keras.preprocessing.sequence import pad_sequences\n",
        "from sklearn.model_selection import train_test_split\n",
        "event = pad_sequences(event_sequence)"
      ],
      "execution_count": 21,
      "outputs": []
    },
    {
      "cell_type": "code",
      "metadata": {
        "id": "gScNr6Pi7Ph8",
        "colab": {
          "base_uri": "https://localhost:8080/"
        },
        "outputId": "7f5ab5b0-d55d-4b08-e4f0-5b936df213f0"
      },
      "source": [
        "event[0:10]"
      ],
      "execution_count": 22,
      "outputs": [
        {
          "output_type": "execute_result",
          "data": {
            "text/plain": [
              "array([[0, 0, 0, 0, 0, 0, 0, 0, 3, 2],\n",
              "       [0, 0, 0, 2, 2, 2, 2, 2, 2, 2],\n",
              "       [0, 0, 3, 3, 3, 3, 3, 3, 3, 3],\n",
              "       [0, 0, 0, 0, 0, 0, 0, 3, 2, 2],\n",
              "       [0, 0, 0, 0, 0, 0, 0, 0, 3, 3],\n",
              "       [0, 0, 0, 0, 0, 0, 0, 0, 3, 2],\n",
              "       [0, 0, 0, 0, 0, 3, 3, 3, 3, 3],\n",
              "       [0, 0, 0, 2, 2, 2, 2, 2, 4, 4],\n",
              "       [0, 0, 0, 0, 0, 0, 0, 3, 3, 3],\n",
              "       [0, 0, 0, 0, 0, 0, 0, 0, 3, 3]], dtype=int32)"
            ]
          },
          "metadata": {},
          "execution_count": 22
        }
      ]
    },
    {
      "cell_type": "code",
      "metadata": {
        "scrolled": true,
        "id": "ZuOIbSAcP6f8",
        "colab": {
          "base_uri": "https://localhost:8080/"
        },
        "outputId": "6197dbe4-4335-4d51-b464-9651cab76df6"
      },
      "source": [
        "# One Hot Encoding the Purchase label\n",
        "y = np.array(pd.get_dummies(short_sequence_10['purchase'],prefix='Purchase'))\n",
        "z=np.sum(y[:,1])/len(y)\n",
        "print('Fraction of purchase sessions for the length-10 sequence data:',z)"
      ],
      "execution_count": 23,
      "outputs": [
        {
          "output_type": "stream",
          "name": "stdout",
          "text": [
            "Fraction of purchase sessions for the length-10 sequence data: 0.06487488415199258\n"
          ]
        }
      ]
    },
    {
      "cell_type": "code",
      "metadata": {
        "id": "BbwdeT39h6l5"
      },
      "source": [
        "#Define a function to generate 70/30 data split followed by data resizing\n",
        "def prepare_train_test_data(data,y):\n",
        "  #input is data[nxd] and Y[nx2], outputs 70/30 split formatted for the sequence models\n",
        "  X_train, X_test, y_train, y_test = train_test_split(data, y, test_size=0.3)\n",
        "  #Resizing is necessary since input to Tensorflow sequence models is (1,d)\n",
        "  X_train = X_train.reshape((X_train.shape[0], 1, X_train.shape[1]))\n",
        "  X_test = X_test.reshape((X_test.shape[0], 1, X_test.shape[1]))\n",
        "  return (X_train,X_test,y_train,y_test)"
      ],
      "execution_count": 24,
      "outputs": []
    },
    {
      "cell_type": "code",
      "metadata": {
        "id": "rjK0Z2WQP6f9",
        "colab": {
          "base_uri": "https://localhost:8080/"
        },
        "outputId": "3e044abe-a26c-42e8-bed4-b5f288927d2b"
      },
      "source": [
        "X_train, X_test, y_train, y_test=prepare_train_test_data(np.array(event),y)\n",
        "print(X_train.shape, y_train.shape)"
      ],
      "execution_count": 25,
      "outputs": [
        {
          "output_type": "stream",
          "name": "stdout",
          "text": [
            "(64200, 1, 10) (64200, 2)\n"
          ]
        }
      ]
    },
    {
      "cell_type": "markdown",
      "metadata": {
        "id": "krjPyvUzP6f_"
      },
      "source": [
        "These helper functions below are just used to display model accuracy during training, and also evaluate the performance of a trained model:"
      ]
    },
    {
      "cell_type": "code",
      "metadata": {
        "id": "wlp3503JIL83"
      },
      "source": [
        "import matplotlib.pyplot as plt\n",
        "\n",
        "# demonstration of calculating metrics for a neural network model using sklearn\n",
        "from sklearn.metrics import accuracy_score\n",
        "from sklearn.metrics import precision_score\n",
        "from sklearn.metrics import recall_score\n",
        "from sklearn.metrics import f1_score\n",
        "\n",
        "\n",
        "def plot_history(history):\n",
        "  # This function will plot the model fit process\n",
        "  print(history.history.keys())\n",
        "  # summarize history for accuracy\n",
        "  plt.plot(history.history['acc'])\n",
        "  plt.plot(history.history['val_acc'])\n",
        "  plt.title('model accuracy')\n",
        "  plt.ylabel('acc')\n",
        "  plt.xlabel('epoch')\n",
        "  plt.legend(['train', 'test'], loc='upper left')\n",
        "  plt.show()\n",
        "  # summarize history for loss\n",
        "  plt.plot(history.history['loss'])\n",
        "  plt.plot(history.history['val_loss'])\n",
        "  plt.title('model loss')\n",
        "  plt.ylabel('loss')\n",
        "  plt.xlabel('epoch')\n",
        "  plt.legend(['train', 'test'], loc='upper left')\n",
        "  plt.show()\n",
        "\n",
        "\n",
        "def evaluate_on_test(X_test, y_test, training_model):\n",
        "  #This function will evaluate the fit model on test data\n",
        "  model_output=training_model.predict(X_test)\n",
        "  g_preds = np.argmax(model_output,axis=1)\n",
        "  gaccuracy = accuracy_score(y_test[:,1], g_preds)\n",
        "  print('Accuracy: %f' % gaccuracy)\n",
        "  # precision tp / (tp + fp)\n",
        "  gprecision = precision_score(y_test[:,1], g_preds)\n",
        "  print('Precision: %f' % gprecision)\n",
        "  # recall: tp / (tp + fn)\n",
        "  grecall = recall_score(y_test[:,1], g_preds)\n",
        "  print('Recall: %f' % grecall)\n",
        "  # f1: 2 tp / (2 tp + fp + fn)\n",
        "  gf1 = f1_score(y_test[:,1], g_preds)\n",
        "  print('F1 score: %f' % gf1)\n"
      ],
      "execution_count": 26,
      "outputs": []
    },
    {
      "cell_type": "markdown",
      "metadata": {
        "id": "_ORGIGQSI3Ei"
      },
      "source": [
        "We'll start with training a [`SimpleRNN`](https://www.tensorflow.org/api_docs/python/tf/keras/layers/SimpleRNN) and then move on to fancier things."
      ]
    },
    {
      "cell_type": "code",
      "metadata": {
        "id": "ytK1F5UMI6EC"
      },
      "source": [
        "from tensorflow.keras.layers import GRU, Embedding, SimpleRNN, Activation\n",
        "import tensorflow as tf"
      ],
      "execution_count": 27,
      "outputs": []
    },
    {
      "cell_type": "code",
      "metadata": {
        "id": "p8fOqyJPJDc5"
      },
      "source": [
        "#This is a simple RNN model\n",
        "def simple_RNN_model(neurons=40, op=10):\n",
        "    model = Sequential()\n",
        "    model.add(SimpleRNN(neurons, return_sequences = True, input_shape = (1,op))) ##neurons: units (layer output shape), op: input vector size = sequence length\n",
        "    model.add(SimpleRNN(2*neurons))\n",
        "    model.add(Dense(2, activation='softmax'))\n",
        "    model.compile(\n",
        "      optimizer=tf.optimizers.Adam(learning_rate=0.0003),\n",
        "      loss='binary_crossentropy',\n",
        "      metrics=['acc'])\n",
        "    return model"
      ],
      "execution_count": 28,
      "outputs": []
    },
    {
      "cell_type": "code",
      "metadata": {
        "id": "1cuwPUcLJvh6",
        "colab": {
          "base_uri": "https://localhost:8080/"
        },
        "outputId": "8059032e-81ad-4e16-8989-d134f17d1f52"
      },
      "source": [
        "#Visualize the Model\n",
        "tf.keras.backend.clear_session()\n",
        "RNN_model = simple_RNN_model(neurons=40, op=10)\n",
        "RNN_model.summary()"
      ],
      "execution_count": 29,
      "outputs": [
        {
          "output_type": "stream",
          "name": "stdout",
          "text": [
            "Model: \"sequential\"\n",
            "_________________________________________________________________\n",
            "Layer (type)                 Output Shape              Param #   \n",
            "=================================================================\n",
            "simple_rnn (SimpleRNN)       (None, 1, 40)             2040      \n",
            "_________________________________________________________________\n",
            "simple_rnn_1 (SimpleRNN)     (None, 80)                9680      \n",
            "_________________________________________________________________\n",
            "dense (Dense)                (None, 2)                 162       \n",
            "=================================================================\n",
            "Total params: 11,882\n",
            "Trainable params: 11,882\n",
            "Non-trainable params: 0\n",
            "_________________________________________________________________\n"
          ]
        }
      ]
    },
    {
      "cell_type": "code",
      "metadata": {
        "id": "IhdK1Xd6JJCw",
        "colab": {
          "base_uri": "https://localhost:8080/"
        },
        "outputId": "42573d50-d130-40e2-dbeb-e9ff38859cf7"
      },
      "source": [
        "#Fit the model using 80/20 validation split at runtime\n",
        "r_history = RNN_model.fit(X_train, y_train,\n",
        "                    epochs=20,\n",
        "                    batch_size=1000,\n",
        "                    validation_split=0.2)"
      ],
      "execution_count": 30,
      "outputs": [
        {
          "output_type": "stream",
          "name": "stdout",
          "text": [
            "Epoch 1/20\n",
            "52/52 [==============================] - 5s 18ms/step - loss: 0.4088 - acc: 0.9139 - val_loss: 0.2491 - val_acc: 0.9350\n",
            "Epoch 2/20\n",
            "52/52 [==============================] - 1s 11ms/step - loss: 0.2222 - acc: 0.9353 - val_loss: 0.2116 - val_acc: 0.9350\n",
            "Epoch 3/20\n",
            "52/52 [==============================] - 1s 11ms/step - loss: 0.2072 - acc: 0.9353 - val_loss: 0.2070 - val_acc: 0.9350\n",
            "Epoch 4/20\n",
            "52/52 [==============================] - 1s 10ms/step - loss: 0.2040 - acc: 0.9353 - val_loss: 0.2046 - val_acc: 0.9350\n",
            "Epoch 5/20\n",
            "52/52 [==============================] - 1s 10ms/step - loss: 0.2020 - acc: 0.9353 - val_loss: 0.2028 - val_acc: 0.9350\n",
            "Epoch 6/20\n",
            "52/52 [==============================] - 1s 10ms/step - loss: 0.2002 - acc: 0.9353 - val_loss: 0.2011 - val_acc: 0.9350\n",
            "Epoch 7/20\n",
            "52/52 [==============================] - 1s 11ms/step - loss: 0.1985 - acc: 0.9456 - val_loss: 0.1994 - val_acc: 0.9452\n",
            "Epoch 8/20\n",
            "52/52 [==============================] - 1s 11ms/step - loss: 0.1969 - acc: 0.9459 - val_loss: 0.1978 - val_acc: 0.9452\n",
            "Epoch 9/20\n",
            "52/52 [==============================] - 1s 11ms/step - loss: 0.1953 - acc: 0.9459 - val_loss: 0.1963 - val_acc: 0.9452\n",
            "Epoch 10/20\n",
            "52/52 [==============================] - 1s 10ms/step - loss: 0.1937 - acc: 0.9459 - val_loss: 0.1948 - val_acc: 0.9452\n",
            "Epoch 11/20\n",
            "52/52 [==============================] - 1s 11ms/step - loss: 0.1923 - acc: 0.9467 - val_loss: 0.1935 - val_acc: 0.9473\n",
            "Epoch 12/20\n",
            "52/52 [==============================] - 1s 11ms/step - loss: 0.1910 - acc: 0.9489 - val_loss: 0.1923 - val_acc: 0.9505\n",
            "Epoch 13/20\n",
            "52/52 [==============================] - 1s 10ms/step - loss: 0.1899 - acc: 0.9511 - val_loss: 0.1913 - val_acc: 0.9505\n",
            "Epoch 14/20\n",
            "52/52 [==============================] - 1s 10ms/step - loss: 0.1888 - acc: 0.9511 - val_loss: 0.1904 - val_acc: 0.9505\n",
            "Epoch 15/20\n",
            "52/52 [==============================] - 1s 10ms/step - loss: 0.1880 - acc: 0.9511 - val_loss: 0.1896 - val_acc: 0.9505\n",
            "Epoch 16/20\n",
            "52/52 [==============================] - 1s 10ms/step - loss: 0.1872 - acc: 0.9511 - val_loss: 0.1889 - val_acc: 0.9505\n",
            "Epoch 17/20\n",
            "52/52 [==============================] - 1s 10ms/step - loss: 0.1865 - acc: 0.9511 - val_loss: 0.1883 - val_acc: 0.9505\n",
            "Epoch 18/20\n",
            "52/52 [==============================] - 0s 9ms/step - loss: 0.1859 - acc: 0.9511 - val_loss: 0.1878 - val_acc: 0.9505\n",
            "Epoch 19/20\n",
            "52/52 [==============================] - 1s 10ms/step - loss: 0.1854 - acc: 0.9511 - val_loss: 0.1873 - val_acc: 0.9505\n",
            "Epoch 20/20\n",
            "52/52 [==============================] - 0s 10ms/step - loss: 0.1849 - acc: 0.9511 - val_loss: 0.1868 - val_acc: 0.9505\n"
          ]
        }
      ]
    },
    {
      "cell_type": "code",
      "metadata": {
        "id": "zVJTgqvHJJFB",
        "colab": {
          "base_uri": "https://localhost:8080/",
          "height": 590
        },
        "outputId": "ede813f7-6adc-4177-f7fe-4c007406557e"
      },
      "source": [
        "plot_history(r_history)"
      ],
      "execution_count": 31,
      "outputs": [
        {
          "output_type": "stream",
          "name": "stdout",
          "text": [
            "dict_keys(['loss', 'acc', 'val_loss', 'val_acc'])\n"
          ]
        },
        {
          "output_type": "display_data",
          "data": {
            "image/png": "[encoded data removed]",
            "text/plain": [
              "<Figure size 432x288 with 1 Axes>"
            ]
          },
          "metadata": {
            "needs_background": "light"
          }
        },
        {
          "output_type": "display_data",
          "data": {
            "image/png": "[encoded data removed]",
            "text/plain": [
              "<Figure size 432x288 with 1 Axes>"
            ]
          },
          "metadata": {
            "needs_background": "light"
          }
        }
      ]
    },
    {
      "cell_type": "code",
      "metadata": {
        "id": "ZRTCPXThJ38p",
        "colab": {
          "base_uri": "https://localhost:8080/"
        },
        "outputId": "8f3b0b96-e680-4c1d-bfb5-f96b03254792"
      },
      "source": [
        "evaluate_on_test(X_test,y_test,RNN_model)"
      ],
      "execution_count": 32,
      "outputs": [
        {
          "output_type": "stream",
          "name": "stdout",
          "text": [
            "Accuracy: 0.951408\n",
            "Precision: 1.000000\n",
            "Recall: 0.253906\n",
            "F1 score: 0.404984\n"
          ]
        }
      ]
    },
    {
      "cell_type": "markdown",
      "metadata": {
        "id": "4QNQqrnx-Xro"
      },
      "source": [
        "Okay, so that was pretty straightforward--we preprocessed the data to have numerical sequences of length 10 (corresponding to different online shoping events), and then used a model with two SimpleRNN layers from TensorFlow to train on this data. The recall here is fairly low, ostensibly because of the imbalance of purchase and non-purchase events, but this was a good first start."
      ]
    },
    {
      "cell_type": "markdown",
      "metadata": {
        "id": "-IULjM4vLIUx"
      },
      "source": [
        "# Task 2: Train GRU-based and LSTM-based models on the length-10 sequence data.\n"
      ]
    },
    {
      "cell_type": "markdown",
      "metadata": {
        "id": "0I82RU-x_qHm"
      },
      "source": [
        "Define a network based on GRU layers called `GRU_model`. Just copy and paste the architecture of `simple_RNN_model` and exchange the `SimpleRNN` layers for `GRU` layers (these have already been imported above)."
      ]
    },
    {
      "cell_type": "code",
      "metadata": {
        "id": "s-zDi5ykLq2M"
      },
      "source": [
        "def GRU_model(neurons=40, op=10):\n",
        "  model = Sequential()\n",
        "  ############### START CODE HERE ################\n",
        "  #This is a simple RNN model\n",
        "  model.add(GRU(neurons, return_sequences = True, input_shape = (1,op))) ##neurons: units (layer output shape), op: input vector size = sequence length\n",
        "  model.add(GRU(2*neurons))\n",
        "  model.add(Dense(2, activation='softmax'))\n",
        "  model.compile(\n",
        "    optimizer=tf.optimizers.Adam(learning_rate=0.0003),\n",
        "    loss='binary_crossentropy',\n",
        "    metrics=['acc'])\n",
        "  return model\n",
        "  ####### END CODE HERE #######"
      ],
      "execution_count": 33,
      "outputs": []
    },
    {
      "cell_type": "code",
      "metadata": {
        "id": "DEy3TOkMLy8T",
        "colab": {
          "base_uri": "https://localhost:8080/"
        },
        "outputId": "1f1f922c-f6fb-430f-b709-aff4c0b100b7"
      },
      "source": [
        "#Visualize the Model\n",
        "tf.keras.backend.clear_session()\n",
        "G_model = GRU_model()\n",
        "G_model.summary()"
      ],
      "execution_count": 34,
      "outputs": [
        {
          "output_type": "stream",
          "name": "stdout",
          "text": [
            "Model: \"sequential\"\n",
            "_________________________________________________________________\n",
            "Layer (type)                 Output Shape              Param #   \n",
            "=================================================================\n",
            "gru (GRU)                    (None, 1, 40)             6240      \n",
            "_________________________________________________________________\n",
            "gru_1 (GRU)                  (None, 80)                29280     \n",
            "_________________________________________________________________\n",
            "dense (Dense)                (None, 2)                 162       \n",
            "=================================================================\n",
            "Total params: 35,682\n",
            "Trainable params: 35,682\n",
            "Non-trainable params: 0\n",
            "_________________________________________________________________\n"
          ]
        }
      ]
    },
    {
      "cell_type": "markdown",
      "metadata": {
        "id": "fJCyU-4XAz81"
      },
      "source": [
        "^ Note the increase in the number of parameters."
      ]
    },
    {
      "cell_type": "code",
      "metadata": {
        "id": "pcYsLzXWMIiB",
        "colab": {
          "base_uri": "https://localhost:8080/"
        },
        "outputId": "b536d3bb-fcf4-4327-968f-f7c34255123a"
      },
      "source": [
        "#Train the G_model (40 epochs, 1000 samples per batch, validation split=0.2)\n",
        "g_history = G_model.fit(X_train, y_train,\n",
        "                        epochs=20,\n",
        "                        batch_size=1000,\n",
        "                        validation_split=0.2)"
      ],
      "execution_count": 35,
      "outputs": [
        {
          "output_type": "stream",
          "name": "stdout",
          "text": [
            "Epoch 1/20\n",
            "52/52 [==============================] - 7s 23ms/step - loss: 0.5861 - acc: 0.9041 - val_loss: 0.4564 - val_acc: 0.9350\n",
            "Epoch 2/20\n",
            "52/52 [==============================] - 0s 8ms/step - loss: 0.3428 - acc: 0.9353 - val_loss: 0.2574 - val_acc: 0.9350\n",
            "Epoch 3/20\n",
            "52/52 [==============================] - 0s 8ms/step - loss: 0.2337 - acc: 0.9353 - val_loss: 0.2216 - val_acc: 0.9350\n",
            "Epoch 4/20\n",
            "52/52 [==============================] - 0s 8ms/step - loss: 0.2154 - acc: 0.9353 - val_loss: 0.2125 - val_acc: 0.9350\n",
            "Epoch 5/20\n",
            "52/52 [==============================] - 0s 7ms/step - loss: 0.2093 - acc: 0.9353 - val_loss: 0.2092 - val_acc: 0.9350\n",
            "Epoch 6/20\n",
            "52/52 [==============================] - 0s 8ms/step - loss: 0.2069 - acc: 0.9353 - val_loss: 0.2076 - val_acc: 0.9350\n",
            "Epoch 7/20\n",
            "52/52 [==============================] - 0s 8ms/step - loss: 0.2056 - acc: 0.9353 - val_loss: 0.2064 - val_acc: 0.9350\n",
            "Epoch 8/20\n",
            "52/52 [==============================] - 0s 8ms/step - loss: 0.2045 - acc: 0.9353 - val_loss: 0.2053 - val_acc: 0.9350\n",
            "Epoch 9/20\n",
            "52/52 [==============================] - 0s 8ms/step - loss: 0.2035 - acc: 0.9353 - val_loss: 0.2043 - val_acc: 0.9350\n",
            "Epoch 10/20\n",
            "52/52 [==============================] - 0s 8ms/step - loss: 0.2024 - acc: 0.9353 - val_loss: 0.2033 - val_acc: 0.9350\n",
            "Epoch 11/20\n",
            "52/52 [==============================] - 0s 8ms/step - loss: 0.2015 - acc: 0.9353 - val_loss: 0.2023 - val_acc: 0.9350\n",
            "Epoch 12/20\n",
            "52/52 [==============================] - 0s 8ms/step - loss: 0.2004 - acc: 0.9353 - val_loss: 0.2012 - val_acc: 0.9350\n",
            "Epoch 13/20\n",
            "52/52 [==============================] - 0s 8ms/step - loss: 0.1993 - acc: 0.9353 - val_loss: 0.2002 - val_acc: 0.9350\n",
            "Epoch 14/20\n",
            "52/52 [==============================] - 0s 8ms/step - loss: 0.1983 - acc: 0.9353 - val_loss: 0.1991 - val_acc: 0.9350\n",
            "Epoch 15/20\n",
            "52/52 [==============================] - 0s 7ms/step - loss: 0.1972 - acc: 0.9414 - val_loss: 0.1981 - val_acc: 0.9452\n",
            "Epoch 16/20\n",
            "52/52 [==============================] - 0s 8ms/step - loss: 0.1961 - acc: 0.9459 - val_loss: 0.1970 - val_acc: 0.9452\n",
            "Epoch 17/20\n",
            "52/52 [==============================] - 0s 8ms/step - loss: 0.1950 - acc: 0.9459 - val_loss: 0.1959 - val_acc: 0.9452\n",
            "Epoch 18/20\n",
            "52/52 [==============================] - 0s 8ms/step - loss: 0.1939 - acc: 0.9459 - val_loss: 0.1949 - val_acc: 0.9452\n",
            "Epoch 19/20\n",
            "52/52 [==============================] - 0s 8ms/step - loss: 0.1929 - acc: 0.9459 - val_loss: 0.1939 - val_acc: 0.9452\n",
            "Epoch 20/20\n",
            "52/52 [==============================] - 0s 8ms/step - loss: 0.1919 - acc: 0.9459 - val_loss: 0.1930 - val_acc: 0.9452\n"
          ]
        }
      ]
    },
    {
      "cell_type": "code",
      "metadata": {
        "id": "0GdxIFEcMS94",
        "colab": {
          "base_uri": "https://localhost:8080/",
          "height": 590
        },
        "outputId": "2a448696-bc98-4676-866d-e40efd55607f"
      },
      "source": [
        "#Use plot_history function to plot the model curves for loss and accuracy\n",
        "plot_history(g_history)"
      ],
      "execution_count": 36,
      "outputs": [
        {
          "output_type": "stream",
          "name": "stdout",
          "text": [
            "dict_keys(['loss', 'acc', 'val_loss', 'val_acc'])\n"
          ]
        },
        {
          "output_type": "display_data",
          "data": {
            "image/png": "[encoded data removed]",
            "text/plain": [
              "<Figure size 432x288 with 1 Axes>"
            ]
          },
          "metadata": {
            "needs_background": "light"
          }
        },
        {
          "output_type": "display_data",
          "data": {
            "image/png": "[encoded data removed]",
            "text/plain": [
              "<Figure size 432x288 with 1 Axes>"
            ]
          },
          "metadata": {
            "needs_background": "light"
          }
        }
      ]
    },
    {
      "cell_type": "code",
      "metadata": {
        "id": "f4vFqrzPMWmY",
        "colab": {
          "base_uri": "https://localhost:8080/"
        },
        "outputId": "59d70e43-9ae7-4b55-b88b-d455b9168c44"
      },
      "source": [
        "# Use evaluate_on_test function to note accuracy, precision, recall and F1 score on test data\n",
        "evaluate_on_test(X_test,y_test, G_model)"
      ],
      "execution_count": 37,
      "outputs": [
        {
          "output_type": "stream",
          "name": "stdout",
          "text": [
            "Accuracy: 0.945593\n",
            "Precision: 1.000000\n",
            "Recall: 0.164621\n",
            "F1 score: 0.282702\n"
          ]
        }
      ]
    },
    {
      "cell_type": "markdown",
      "metadata": {
        "id": "qqQ4Y05we6Xn"
      },
      "source": [
        "These may get a very similar performance as the simple RNN, but you can check that it does produce slightly different outputs. GRU recurrent neural networks are just a more complicated type of network and often perform better on sequence prediction tasks. "
      ]
    },
    {
      "cell_type": "markdown",
      "metadata": {
        "id": "tfZHhIZW9zXI"
      },
      "source": [
        "Do the same as you did above for GRU, but this time for a model based on [`LSTM`](https://www.tensorflow.org/api_docs/python/tf/keras/layers/LSTM) layers. Try wrapping the first LSTM layer with [`Bidirectional`](https://www.tensorflow.org/api_docs/python/tf/keras/layers/Bidirectional).\n",
        "\n"
      ]
    },
    {
      "cell_type": "code",
      "metadata": {
        "id": "62VFEslyqEWX"
      },
      "source": [
        "#Define an LSTM model function. Use the LSTM layer as shown below.\n",
        "#Notice the change in number of parameters\n",
        "def LSTM_model(neurons=40, op=10):\n",
        "  model = Sequential()\n",
        "  #model.add(Bidirectional(LSTM(neurons, return_sequences = True, input_shape = (1,op)))) ##neurons: units (layer output shape), op: input vector size = sequence length\n",
        "  model.add(Bidirectional(LSTM(40, return_sequences=True), input_shape=(1, 10)))\n",
        "  model.add(LSTM(2*neurons))\n",
        "  model.add(Dense(2, activation='softmax'))\n",
        "  model.compile(\n",
        "    optimizer=tf.optimizers.Adam(learning_rate=0.0003),\n",
        "    loss='binary_crossentropy',\n",
        "    metrics=['acc'])\n",
        "  #### END CODE HERE #####\n",
        "  return model"
      ],
      "execution_count": 64,
      "outputs": []
    },
    {
      "cell_type": "code",
      "metadata": {
        "id": "1HZqWlbtqegR",
        "colab": {
          "base_uri": "https://localhost:8080/"
        },
        "outputId": "64be852d-c533-4451-b92d-5f1f636022ab"
      },
      "source": [
        "tf.keras.backend.clear_session()\n",
        "l_model = LSTM_model(neurons=40, op=10)\n",
        "l_model.summary()"
      ],
      "execution_count": 65,
      "outputs": [
        {
          "output_type": "stream",
          "name": "stdout",
          "text": [
            "Model: \"sequential\"\n",
            "_________________________________________________________________\n",
            "Layer (type)                 Output Shape              Param #   \n",
            "=================================================================\n",
            "bidirectional (Bidirectional (None, 1, 80)             16320     \n",
            "_________________________________________________________________\n",
            "lstm_1 (LSTM)                (None, 80)                51520     \n",
            "_________________________________________________________________\n",
            "dense (Dense)                (None, 2)                 162       \n",
            "=================================================================\n",
            "Total params: 68,002\n",
            "Trainable params: 68,002\n",
            "Non-trainable params: 0\n",
            "_________________________________________________________________\n"
          ]
        }
      ]
    },
    {
      "cell_type": "code",
      "metadata": {
        "id": "duvgEdL-rur0",
        "colab": {
          "base_uri": "https://localhost:8080/"
        },
        "outputId": "4742adb1-91ba-4e1c-a07d-5b808c3602a3"
      },
      "source": [
        "#Train the training_model (20 epochs, 1000 samples per batch, validation split=0.2)\n",
        "l_history = l_model.fit(X_train, y_train,\n",
        "                    epochs=20,\n",
        "                    batch_size=1000,#atleast 1000 records per epoch\n",
        "                    validation_split=0.2)"
      ],
      "execution_count": 66,
      "outputs": [
        {
          "output_type": "stream",
          "name": "stdout",
          "text": [
            "Epoch 1/20\n",
            "52/52 [==============================] - 7s 35ms/step - loss: 0.6409 - acc: 0.8721 - val_loss: 0.5631 - val_acc: 0.9350\n",
            "Epoch 2/20\n",
            "52/52 [==============================] - 1s 10ms/step - loss: 0.4399 - acc: 0.9353 - val_loss: 0.3121 - val_acc: 0.9350\n",
            "Epoch 3/20\n",
            "52/52 [==============================] - 1s 11ms/step - loss: 0.2597 - acc: 0.9353 - val_loss: 0.2315 - val_acc: 0.9350\n",
            "Epoch 4/20\n",
            "52/52 [==============================] - 1s 11ms/step - loss: 0.2200 - acc: 0.9353 - val_loss: 0.2133 - val_acc: 0.9350\n",
            "Epoch 5/20\n",
            "52/52 [==============================] - 1s 11ms/step - loss: 0.2087 - acc: 0.9353 - val_loss: 0.2074 - val_acc: 0.9350\n",
            "Epoch 6/20\n",
            "52/52 [==============================] - 1s 11ms/step - loss: 0.2049 - acc: 0.9353 - val_loss: 0.2049 - val_acc: 0.9350\n",
            "Epoch 7/20\n",
            "52/52 [==============================] - 1s 11ms/step - loss: 0.2031 - acc: 0.9353 - val_loss: 0.2034 - val_acc: 0.9350\n",
            "Epoch 8/20\n",
            "52/52 [==============================] - 1s 11ms/step - loss: 0.2018 - acc: 0.9353 - val_loss: 0.2023 - val_acc: 0.9350\n",
            "Epoch 9/20\n",
            "52/52 [==============================] - 1s 11ms/step - loss: 0.2008 - acc: 0.9353 - val_loss: 0.2014 - val_acc: 0.9350\n",
            "Epoch 10/20\n",
            "52/52 [==============================] - 1s 11ms/step - loss: 0.2000 - acc: 0.9353 - val_loss: 0.2006 - val_acc: 0.9350\n",
            "Epoch 11/20\n",
            "52/52 [==============================] - 1s 11ms/step - loss: 0.1992 - acc: 0.9353 - val_loss: 0.1999 - val_acc: 0.9350\n",
            "Epoch 12/20\n",
            "52/52 [==============================] - 1s 11ms/step - loss: 0.1985 - acc: 0.9353 - val_loss: 0.1991 - val_acc: 0.9350\n",
            "Epoch 13/20\n",
            "52/52 [==============================] - 1s 11ms/step - loss: 0.1977 - acc: 0.9353 - val_loss: 0.1984 - val_acc: 0.9350\n",
            "Epoch 14/20\n",
            "52/52 [==============================] - 1s 11ms/step - loss: 0.1969 - acc: 0.9353 - val_loss: 0.1977 - val_acc: 0.9350\n",
            "Epoch 15/20\n",
            "52/52 [==============================] - 1s 11ms/step - loss: 0.1962 - acc: 0.9353 - val_loss: 0.1970 - val_acc: 0.9350\n",
            "Epoch 16/20\n",
            "52/52 [==============================] - 1s 11ms/step - loss: 0.1955 - acc: 0.9353 - val_loss: 0.1964 - val_acc: 0.9350\n",
            "Epoch 17/20\n",
            "52/52 [==============================] - 1s 11ms/step - loss: 0.1948 - acc: 0.9354 - val_loss: 0.1956 - val_acc: 0.9452\n",
            "Epoch 18/20\n",
            "52/52 [==============================] - 1s 11ms/step - loss: 0.1941 - acc: 0.9459 - val_loss: 0.1950 - val_acc: 0.9452\n",
            "Epoch 19/20\n",
            "52/52 [==============================] - 1s 11ms/step - loss: 0.1935 - acc: 0.9459 - val_loss: 0.1944 - val_acc: 0.9452\n",
            "Epoch 20/20\n",
            "52/52 [==============================] - 1s 11ms/step - loss: 0.1928 - acc: 0.9459 - val_loss: 0.1938 - val_acc: 0.9452\n"
          ]
        }
      ]
    },
    {
      "cell_type": "code",
      "metadata": {
        "id": "5MF7_nuj2ZQO",
        "colab": {
          "base_uri": "https://localhost:8080/",
          "height": 590
        },
        "outputId": "43865060-b672-4c9a-8cbe-397d73494e96"
      },
      "source": [
        "#Use plot_history function to plot the model curves for loss and accuracy\n",
        "plot_history(l_history)"
      ],
      "execution_count": 67,
      "outputs": [
        {
          "output_type": "stream",
          "name": "stdout",
          "text": [
            "dict_keys(['loss', 'acc', 'val_loss', 'val_acc'])\n"
          ]
        },
        {
          "output_type": "display_data",
          "data": {
            "image/png": "[encoded data removed]",
            "text/plain": [
              "<Figure size 432x288 with 1 Axes>"
            ]
          },
          "metadata": {
            "needs_background": "light"
          }
        },
        {
          "output_type": "display_data",
          "data": {
            "image/png": "[encoded data removed]",
            "text/plain": [
              "<Figure size 432x288 with 1 Axes>"
            ]
          },
          "metadata": {
            "needs_background": "light"
          }
        }
      ]
    },
    {
      "cell_type": "code",
      "metadata": {
        "id": "KAGWtCN-OKrG",
        "colab": {
          "base_uri": "https://localhost:8080/"
        },
        "outputId": "1480c50a-2b03-4bb5-9f78-661751fd4bde"
      },
      "source": [
        "# Use evaluate_on_test function to note accuracy, precision, recall and F1 score on test data\n",
        "evaluate_on_test(X_test,y_test,l_model)"
      ],
      "execution_count": 68,
      "outputs": [
        {
          "output_type": "stream",
          "name": "stdout",
          "text": [
            "Accuracy: 0.945593\n",
            "Precision: 1.000000\n",
            "Recall: 0.164621\n",
            "F1 score: 0.282702\n"
          ]
        }
      ]
    },
    {
      "cell_type": "markdown",
      "metadata": {
        "id": "Ys0VKUs3hBQf"
      },
      "source": [
        "...LSTMs can sometimes take longer to fit because they have more free parameters."
      ]
    },
    {
      "cell_type": "markdown",
      "metadata": {
        "id": "2_5HNGfkP7I6"
      },
      "source": [
        "# Task 3: Let's try running the GRU model on a different dataset with more informative features."
      ]
    },
    {
      "cell_type": "code",
      "metadata": {
        "id": "Ku0_TrjDuDhu",
        "colab": {
          "base_uri": "https://localhost:8080/",
          "height": 244
        },
        "outputId": "476946d4-c323-4c5a-f5b5-dd4c4e563107"
      },
      "source": [
        "#Next lets look at some other session \"features\"\n",
        "feat = pd.read_pickle('/content/drive/MyDrive/Notebooks/Sequence_Models/Session_features.pkl')\n",
        "print('Shape of data=', feat.shape)\n",
        "feat.head()"
      ],
      "execution_count": 69,
      "outputs": [
        {
          "output_type": "stream",
          "name": "stdout",
          "text": [
            "Shape of data= (1500000, 36)\n"
          ]
        },
        {
          "output_type": "execute_result",
          "data": {
            "text/html": [
              "<div>\n",
              "<style scoped>\n",
              "    .dataframe tbody tr th:only-of-type {\n",
              "        vertical-align: middle;\n",
              "    }\n",
              "\n",
              "    .dataframe tbody tr th {\n",
              "        vertical-align: top;\n",
              "    }\n",
              "\n",
              "    .dataframe thead th {\n",
              "        text-align: right;\n",
              "    }\n",
              "</style>\n",
              "<table border=\"1\" class=\"dataframe\">\n",
              "  <thead>\n",
              "    <tr style=\"text-align: right;\">\n",
              "      <th></th>\n",
              "      <th>TotalEventsInSession</th>\n",
              "      <th>interactionTime</th>\n",
              "      <th>#TimesCartedinSession</th>\n",
              "      <th>#TimesViewedinSession</th>\n",
              "      <th>maxPrice</th>\n",
              "      <th>minPrice</th>\n",
              "      <th>AvgAmtCartedInSession</th>\n",
              "      <th>AvgAmtViewedInSession</th>\n",
              "      <th>#BrandsCartedInSession</th>\n",
              "      <th>#BrandsViewedInSession</th>\n",
              "      <th>#CategoriesCartedInSession</th>\n",
              "      <th>#CategoriesViewedInSession</th>\n",
              "      <th>OverallAmtUserCarted</th>\n",
              "      <th>OverallAmtUserViewed</th>\n",
              "      <th>#ProdsCartedInSession</th>\n",
              "      <th>#ProdsViewedInSession</th>\n",
              "      <th>Fr</th>\n",
              "      <th>Mon</th>\n",
              "      <th>Sat</th>\n",
              "      <th>Sun</th>\n",
              "      <th>Thu</th>\n",
              "      <th>Tue</th>\n",
              "      <th>Wed</th>\n",
              "      <th>2019</th>\n",
              "      <th>Nov</th>\n",
              "      <th>Oct</th>\n",
              "      <th>Sep</th>\n",
              "      <th>Afternoon</th>\n",
              "      <th>Dawn</th>\n",
              "      <th>EarlyMorning</th>\n",
              "      <th>Evening</th>\n",
              "      <th>Morning</th>\n",
              "      <th>Night</th>\n",
              "      <th>Noon</th>\n",
              "      <th>Weekend</th>\n",
              "      <th>Purchase</th>\n",
              "    </tr>\n",
              "  </thead>\n",
              "  <tbody>\n",
              "    <tr>\n",
              "      <th>0</th>\n",
              "      <td>7</td>\n",
              "      <td>493.0</td>\n",
              "      <td>0</td>\n",
              "      <td>7</td>\n",
              "      <td>1349.46</td>\n",
              "      <td>131.53</td>\n",
              "      <td>0.00</td>\n",
              "      <td>812.941429</td>\n",
              "      <td>0</td>\n",
              "      <td>7</td>\n",
              "      <td>0</td>\n",
              "      <td>7</td>\n",
              "      <td>145.095000</td>\n",
              "      <td>187.166429</td>\n",
              "      <td>0</td>\n",
              "      <td>7</td>\n",
              "      <td>0</td>\n",
              "      <td>0</td>\n",
              "      <td>0</td>\n",
              "      <td>0</td>\n",
              "      <td>1</td>\n",
              "      <td>0</td>\n",
              "      <td>0</td>\n",
              "      <td>1</td>\n",
              "      <td>0</td>\n",
              "      <td>1</td>\n",
              "      <td>0</td>\n",
              "      <td>0</td>\n",
              "      <td>1</td>\n",
              "      <td>0</td>\n",
              "      <td>0</td>\n",
              "      <td>0</td>\n",
              "      <td>0</td>\n",
              "      <td>0</td>\n",
              "      <td>0</td>\n",
              "      <td>0</td>\n",
              "    </tr>\n",
              "    <tr>\n",
              "      <th>1</th>\n",
              "      <td>18</td>\n",
              "      <td>585.0</td>\n",
              "      <td>1</td>\n",
              "      <td>16</td>\n",
              "      <td>1747.79</td>\n",
              "      <td>152.58</td>\n",
              "      <td>289.52</td>\n",
              "      <td>621.671250</td>\n",
              "      <td>1</td>\n",
              "      <td>16</td>\n",
              "      <td>1</td>\n",
              "      <td>16</td>\n",
              "      <td>461.202273</td>\n",
              "      <td>653.235432</td>\n",
              "      <td>1</td>\n",
              "      <td>16</td>\n",
              "      <td>0</td>\n",
              "      <td>0</td>\n",
              "      <td>0</td>\n",
              "      <td>1</td>\n",
              "      <td>0</td>\n",
              "      <td>0</td>\n",
              "      <td>0</td>\n",
              "      <td>1</td>\n",
              "      <td>0</td>\n",
              "      <td>1</td>\n",
              "      <td>0</td>\n",
              "      <td>0</td>\n",
              "      <td>0</td>\n",
              "      <td>1</td>\n",
              "      <td>0</td>\n",
              "      <td>0</td>\n",
              "      <td>0</td>\n",
              "      <td>0</td>\n",
              "      <td>0</td>\n",
              "      <td>1</td>\n",
              "    </tr>\n",
              "    <tr>\n",
              "      <th>2</th>\n",
              "      <td>1</td>\n",
              "      <td>0.0</td>\n",
              "      <td>0</td>\n",
              "      <td>1</td>\n",
              "      <td>1422.10</td>\n",
              "      <td>1422.10</td>\n",
              "      <td>0.00</td>\n",
              "      <td>1422.100000</td>\n",
              "      <td>0</td>\n",
              "      <td>1</td>\n",
              "      <td>0</td>\n",
              "      <td>1</td>\n",
              "      <td>0.000000</td>\n",
              "      <td>625.779478</td>\n",
              "      <td>0</td>\n",
              "      <td>1</td>\n",
              "      <td>0</td>\n",
              "      <td>0</td>\n",
              "      <td>0</td>\n",
              "      <td>0</td>\n",
              "      <td>0</td>\n",
              "      <td>0</td>\n",
              "      <td>1</td>\n",
              "      <td>1</td>\n",
              "      <td>1</td>\n",
              "      <td>0</td>\n",
              "      <td>0</td>\n",
              "      <td>0</td>\n",
              "      <td>1</td>\n",
              "      <td>0</td>\n",
              "      <td>0</td>\n",
              "      <td>0</td>\n",
              "      <td>0</td>\n",
              "      <td>0</td>\n",
              "      <td>0</td>\n",
              "      <td>0</td>\n",
              "    </tr>\n",
              "    <tr>\n",
              "      <th>3</th>\n",
              "      <td>1</td>\n",
              "      <td>0.0</td>\n",
              "      <td>0</td>\n",
              "      <td>1</td>\n",
              "      <td>308.63</td>\n",
              "      <td>308.63</td>\n",
              "      <td>0.00</td>\n",
              "      <td>308.630000</td>\n",
              "      <td>0</td>\n",
              "      <td>1</td>\n",
              "      <td>0</td>\n",
              "      <td>1</td>\n",
              "      <td>0.000000</td>\n",
              "      <td>609.110000</td>\n",
              "      <td>0</td>\n",
              "      <td>1</td>\n",
              "      <td>0</td>\n",
              "      <td>0</td>\n",
              "      <td>1</td>\n",
              "      <td>0</td>\n",
              "      <td>0</td>\n",
              "      <td>0</td>\n",
              "      <td>0</td>\n",
              "      <td>1</td>\n",
              "      <td>1</td>\n",
              "      <td>0</td>\n",
              "      <td>0</td>\n",
              "      <td>0</td>\n",
              "      <td>0</td>\n",
              "      <td>1</td>\n",
              "      <td>0</td>\n",
              "      <td>0</td>\n",
              "      <td>0</td>\n",
              "      <td>0</td>\n",
              "      <td>0</td>\n",
              "      <td>0</td>\n",
              "    </tr>\n",
              "    <tr>\n",
              "      <th>4</th>\n",
              "      <td>11</td>\n",
              "      <td>509.0</td>\n",
              "      <td>4</td>\n",
              "      <td>6</td>\n",
              "      <td>171.90</td>\n",
              "      <td>131.51</td>\n",
              "      <td>171.90</td>\n",
              "      <td>158.220000</td>\n",
              "      <td>4</td>\n",
              "      <td>6</td>\n",
              "      <td>4</td>\n",
              "      <td>6</td>\n",
              "      <td>153.899000</td>\n",
              "      <td>150.426207</td>\n",
              "      <td>4</td>\n",
              "      <td>6</td>\n",
              "      <td>1</td>\n",
              "      <td>0</td>\n",
              "      <td>0</td>\n",
              "      <td>0</td>\n",
              "      <td>0</td>\n",
              "      <td>0</td>\n",
              "      <td>0</td>\n",
              "      <td>1</td>\n",
              "      <td>0</td>\n",
              "      <td>1</td>\n",
              "      <td>0</td>\n",
              "      <td>0</td>\n",
              "      <td>1</td>\n",
              "      <td>0</td>\n",
              "      <td>0</td>\n",
              "      <td>0</td>\n",
              "      <td>0</td>\n",
              "      <td>0</td>\n",
              "      <td>0</td>\n",
              "      <td>1</td>\n",
              "    </tr>\n",
              "  </tbody>\n",
              "</table>\n",
              "</div>"
            ],
            "text/plain": [
              "   TotalEventsInSession  interactionTime  ...  Weekend  Purchase\n",
              "0                     7            493.0  ...        0         0\n",
              "1                    18            585.0  ...        0         1\n",
              "2                     1              0.0  ...        0         0\n",
              "3                     1              0.0  ...        0         0\n",
              "4                    11            509.0  ...        0         1\n",
              "\n",
              "[5 rows x 36 columns]"
            ]
          },
          "metadata": {},
          "execution_count": 69
        }
      ]
    },
    {
      "cell_type": "markdown",
      "metadata": {
        "id": "owWV1PK9qlsy"
      },
      "source": [
        "This is just a different dataset that's focused on whole sessions, for which we have more different types of features (36 of them)"
      ]
    },
    {
      "cell_type": "markdown",
      "metadata": {
        "id": "cOxWBmtGlqca"
      },
      "source": [
        "Suppose we were to treat each row of features as a \"sequence.\" This is not the most common setup for RNNs, (since each element in the sequence (each column) represents different types of quantities) but it'll work in our case. We'll take the first 35 columns as the elements of our sequence and the 36th column, the purchase column, as the target:"
      ]
    },
    {
      "cell_type": "code",
      "metadata": {
        "id": "QQHFIkXGI6zs",
        "colab": {
          "base_uri": "https://localhost:8080/"
        },
        "outputId": "474ed4bf-6c13-4264-a851-5f897361ccee"
      },
      "source": [
        "Xf=feat.iloc[:,0:35]\n",
        "Yf=feat.iloc[:,35]\n",
        "yf = np.array(pd.get_dummies(Yf, prefix='Purchase'))\n",
        "Xf_train, Xf_test, yf_train, yf_test=prepare_train_test_data(np.array(Xf), np.array(yf)) # Function call to 'prepare_train_test_data' to create 70/30 split data\n",
        "print(Xf_train.shape, yf_train.shape)"
      ],
      "execution_count": 70,
      "outputs": [
        {
          "output_type": "stream",
          "name": "stdout",
          "text": [
            "(1050000, 1, 35) (1050000, 2)\n"
          ]
        }
      ]
    },
    {
      "cell_type": "code",
      "metadata": {
        "id": "GuxjWsu8QPhi",
        "colab": {
          "base_uri": "https://localhost:8080/"
        },
        "outputId": "423bc8e5-dab3-415a-f172-8265966370a1"
      },
      "source": [
        "#Initialize ANY model (RNN or GRU or LSTM)\n",
        "def GRU_model(neurons=40, op=10):\n",
        "  model = Sequential()\n",
        "  model.add(GRU(neurons, return_sequences = True, input_shape = (1,op)))\n",
        "  model.add(GRU(2*neurons))\n",
        "  model.add(Dense(2, activation='softmax'))\n",
        "  model.compile(\n",
        "    optimizer=tf.optimizers.Adam(learning_rate=0.0003),\n",
        "    loss='binary_crossentropy',\n",
        "    metrics=['acc'])\n",
        "  return model\n",
        "\n",
        "#Visualize the Model (Notice the increase in parameters)\n",
        "tf.keras.backend.clear_session()\n",
        "gru_model = GRU_model(neurons=40, op=Xf_train.shape[2])\n",
        "gru_model.summary()"
      ],
      "execution_count": 71,
      "outputs": [
        {
          "output_type": "stream",
          "name": "stdout",
          "text": [
            "Model: \"sequential\"\n",
            "_________________________________________________________________\n",
            "Layer (type)                 Output Shape              Param #   \n",
            "=================================================================\n",
            "gru (GRU)                    (None, 1, 40)             9240      \n",
            "_________________________________________________________________\n",
            "gru_1 (GRU)                  (None, 80)                29280     \n",
            "_________________________________________________________________\n",
            "dense (Dense)                (None, 2)                 162       \n",
            "=================================================================\n",
            "Total params: 38,682\n",
            "Trainable params: 38,682\n",
            "Non-trainable params: 0\n",
            "_________________________________________________________________\n"
          ]
        }
      ]
    },
    {
      "cell_type": "code",
      "metadata": {
        "id": "zwukFzm5yYcj",
        "colab": {
          "base_uri": "https://localhost:8080/"
        },
        "outputId": "c8d03850-4fc8-44e9-826d-54b9e3aa8833"
      },
      "source": [
        "#Fit your model on Training data (20 epochs, 1000 samples per batch, validation_split=0.2)\n",
        "gru_history = gru_model.fit(Xf_train, yf_train,\n",
        "                    epochs=20,\n",
        "                    batch_size=1000,#atleast 1000 records per epoch\n",
        "                    validation_split=0.2)"
      ],
      "execution_count": 72,
      "outputs": [
        {
          "output_type": "stream",
          "name": "stdout",
          "text": [
            "Epoch 1/20\n",
            "840/840 [==============================] - 8s 7ms/step - loss: 0.2016 - acc: 0.9231 - val_loss: 0.1564 - val_acc: 0.9362\n",
            "Epoch 2/20\n",
            "840/840 [==============================] - 5s 6ms/step - loss: 0.1499 - acc: 0.9376 - val_loss: 0.1459 - val_acc: 0.9387\n",
            "Epoch 3/20\n",
            "840/840 [==============================] - 5s 6ms/step - loss: 0.1410 - acc: 0.9395 - val_loss: 0.1387 - val_acc: 0.9402\n",
            "Epoch 4/20\n",
            "840/840 [==============================] - 5s 6ms/step - loss: 0.1341 - acc: 0.9414 - val_loss: 0.1305 - val_acc: 0.9428\n",
            "Epoch 5/20\n",
            "840/840 [==============================] - 5s 6ms/step - loss: 0.1285 - acc: 0.9432 - val_loss: 0.1264 - val_acc: 0.9445\n",
            "Epoch 6/20\n",
            "840/840 [==============================] - 5s 6ms/step - loss: 0.1219 - acc: 0.9457 - val_loss: 0.1186 - val_acc: 0.9487\n",
            "Epoch 7/20\n",
            "840/840 [==============================] - 5s 6ms/step - loss: 0.1144 - acc: 0.9497 - val_loss: 0.1112 - val_acc: 0.9527\n",
            "Epoch 8/20\n",
            "840/840 [==============================] - 5s 6ms/step - loss: 0.1040 - acc: 0.9559 - val_loss: 0.0980 - val_acc: 0.9596\n",
            "Epoch 9/20\n",
            "840/840 [==============================] - 5s 6ms/step - loss: 0.0932 - acc: 0.9624 - val_loss: 0.0838 - val_acc: 0.9671\n",
            "Epoch 10/20\n",
            "840/840 [==============================] - 5s 6ms/step - loss: 0.0803 - acc: 0.9695 - val_loss: 0.0706 - val_acc: 0.9736\n",
            "Epoch 11/20\n",
            "840/840 [==============================] - 5s 6ms/step - loss: 0.0670 - acc: 0.9742 - val_loss: 0.0595 - val_acc: 0.9768\n",
            "Epoch 12/20\n",
            "840/840 [==============================] - 5s 6ms/step - loss: 0.0566 - acc: 0.9765 - val_loss: 0.0507 - val_acc: 0.9783\n",
            "Epoch 13/20\n",
            "840/840 [==============================] - 5s 6ms/step - loss: 0.0493 - acc: 0.9788 - val_loss: 0.0412 - val_acc: 0.9806\n",
            "Epoch 14/20\n",
            "840/840 [==============================] - 5s 6ms/step - loss: 0.0464 - acc: 0.9800 - val_loss: 0.0476 - val_acc: 0.9804\n",
            "Epoch 15/20\n",
            "840/840 [==============================] - 5s 6ms/step - loss: 0.0402 - acc: 0.9816 - val_loss: 0.0407 - val_acc: 0.9807\n",
            "Epoch 16/20\n",
            "840/840 [==============================] - 5s 6ms/step - loss: 0.0408 - acc: 0.9813 - val_loss: 0.0650 - val_acc: 0.9777\n",
            "Epoch 17/20\n",
            "840/840 [==============================] - 5s 6ms/step - loss: 0.0382 - acc: 0.9824 - val_loss: 0.0344 - val_acc: 0.9832\n",
            "Epoch 18/20\n",
            "840/840 [==============================] - 5s 6ms/step - loss: 0.0417 - acc: 0.9817 - val_loss: 0.0520 - val_acc: 0.9754\n",
            "Epoch 19/20\n",
            "840/840 [==============================] - 5s 6ms/step - loss: 0.0464 - acc: 0.9806 - val_loss: 0.0457 - val_acc: 0.9809\n",
            "Epoch 20/20\n",
            "840/840 [==============================] - 5s 6ms/step - loss: 0.0357 - acc: 0.9832 - val_loss: 0.0318 - val_acc: 0.9848\n"
          ]
        }
      ]
    },
    {
      "cell_type": "code",
      "metadata": {
        "id": "ILXRxuM_ymWm",
        "colab": {
          "base_uri": "https://localhost:8080/",
          "height": 590
        },
        "outputId": "0319df56-b349-4e12-f097-6ff07e11c80b"
      },
      "source": [
        "#Use plot_history function to plot the model curves for loss and accuracy\n",
        "plot_history(gru_history)"
      ],
      "execution_count": 73,
      "outputs": [
        {
          "output_type": "stream",
          "name": "stdout",
          "text": [
            "dict_keys(['loss', 'acc', 'val_loss', 'val_acc'])\n"
          ]
        },
        {
          "output_type": "display_data",
          "data": {
            "image/png": "[encoded data removed]",
            "text/plain": [
              "<Figure size 432x288 with 1 Axes>"
            ]
          },
          "metadata": {
            "needs_background": "light"
          }
        },
        {
          "output_type": "display_data",
          "data": {
            "image/png": "[encoded data removed]",
            "text/plain": [
              "<Figure size 432x288 with 1 Axes>"
            ]
          },
          "metadata": {
            "needs_background": "light"
          }
        }
      ]
    },
    {
      "cell_type": "code",
      "metadata": {
        "id": "3BhRFSlcyqhT",
        "colab": {
          "base_uri": "https://localhost:8080/"
        },
        "outputId": "2108377d-a0dd-454c-83b1-64fdb3eb80dc"
      },
      "source": [
        "# Use evaluate_on_test function to note accuracy, precision, recall and F1 score on test data\n",
        "evaluate_on_test(Xf_test,yf_test,gru_model)"
      ],
      "execution_count": 74,
      "outputs": [
        {
          "output_type": "stream",
          "name": "stdout",
          "text": [
            "Accuracy: 0.984542\n",
            "Precision: 0.929098\n",
            "Recall: 0.841998\n",
            "F1 score: 0.883406\n"
          ]
        }
      ]
    },
    {
      "cell_type": "markdown",
      "metadata": {
        "id": "ocx8Ydrey0-W"
      },
      "source": [
        "#Comment on what you would suggest to your manager?\n",
        "\n",
        "\n",
        "*  Is feature-level data necessary? What metrics suggest that?\n",
        "*  What you you suggest to improve the quality of the model trained on event-sequence data (the first dataset?) \n",
        "\n"
      ]
    },
    {
      "cell_type": "markdown",
      "metadata": {
        "id": "x7zzlkM1oX0k"
      },
      "source": [
        "1. Yes it is important the feature-level data because the whole model is focus on below 10 which make it limited to the data available. I think generalizing to the whole dataset may have lower performance but wide range of insights to predict. Generalizing for the whole dataframe may be difficult, however non-linearity learning will perform correctly in case that a RNN is used.  \n",
        "2. I'd suggest to work with GRU due the higher performance compare to LSTM and simple RNN. LSTM takes longer and might be too old fashioned model, simple RNN is good but not great and GRU have accomplish the expectations. "
      ]
    }
  ]
}